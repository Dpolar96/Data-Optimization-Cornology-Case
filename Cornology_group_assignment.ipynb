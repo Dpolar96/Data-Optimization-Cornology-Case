{
 "cells": [
  {
   "cell_type": "code",
   "execution_count": 6,
   "id": "90507e29",
   "metadata": {},
   "outputs": [
    {
     "name": "stdout",
     "output_type": "stream",
     "text": [
      "Problem:\n",
      "MAXIMIZE\n",
      "-7483001*LNC + -7637161*LNE + -7003601*LWC + -20447500*LYRD + 0\n",
      "SUBJECT TO\n",
      "_C1: LNC + LNE + LWC + LYRD <= 1\n",
      "\n",
      "_C2: LNC + LNE + LWC + LYRD >= 1\n",
      "\n",
      "VARIABLES\n",
      "LNC <= 1 Continuous\n",
      "LNE <= 1 Continuous\n",
      "LWC <= 1 Continuous\n",
      "LYRD <= 1 Continuous\n",
      "\n",
      "Optimal\n",
      "0.0 0.0 0.0 1.0\n",
      "-7003601.0\n"
     ]
    }
   ],
   "source": [
    "import pulp as p #import of the PuLP package to do linear problem solving\n",
    "\n",
    "#Cost of each factory\n",
    "nong_khai_cost = 11252161\n",
    "chiang_rai_cost = 10998001\n",
    "bangkok_cost = 24062500\n",
    "yala_cost = 10303601\n",
    "\n",
    "#Profit made per unit of product\n",
    "p_o = 12500\n",
    "p_fb = 7500\n",
    "\n",
    "#Demand for Original Flavor in each region\n",
    "ONE = 0\n",
    "OYRD = 180\n",
    "OSE = 127\n",
    "ONC = 90\n",
    "OSC = 118\n",
    "OWC = 90\n",
    "\n",
    "#Demand for Flavor Blast in each region\n",
    "FBNE = 70\n",
    "FBYRD = 112\n",
    "FBSE = 37\n",
    "FBNC = 70\n",
    "FBSC = 74\n",
    "FBWC = 0\n",
    "\n",
    "\n",
    "Lp_prob = p.LpProblem('Problem', p.LpMaximize) #Calling for the linear problem solving formula\n",
    "\n",
    "\n",
    "LNE = p.LpVariable(\"LNE\", lowBound = 0, upBound= 1) #Establishing that the variable must be between the values of 0 and 1\n",
    "LNC = p.LpVariable(\"LNC\", lowBound = 0, upBound= 1)\n",
    "LYRD = p.LpVariable(\"LYRD\", lowBound =  0, upBound= 1)\n",
    "LWC = p.LpVariable(\"LWC\", lowBound = 0, upBound= 1)\n",
    "\n",
    "\n",
    "Lp_prob += ((LNE*((ONE+OYRD)*p_o+(FBNE+FBYRD)*p_fb-nong_khai_cost))+\n",
    "            (LNC*((ONC+OSE)*p_o+(FBNC+FBSE)*p_fb-chiang_rai_cost))+\n",
    "            (LYRD*((OYRD+ONE)*p_o+(FBYRD+FBNE)*p_fb-bangkok_cost))+\n",
    "            (LWC*((OWC+ONC+ONE)*p_o+(FBWC+FBNC+FBNE)*p_fb-yala_cost))) #The problem to maximize in this case\n",
    "\n",
    "Lp_prob += LNE + LNC + LYRD + LWC <= 1 # Establishing that the sum of the variables have to be less or equal to 1\n",
    "Lp_prob += LNE + LNC + LYRD + LWC >= 1 # Establishing that the sum of the variables have to be more or equal to 1, thus establishing a binary condition\n",
    "\n",
    "print(Lp_prob) #Printing the whole problem including function to optimize and constraints present\n",
    "\n",
    "status = Lp_prob.solve()   # Solver\n",
    "print(p.LpStatus[status]) # Whether this solution is optimal or not\n",
    "\n",
    "print(p.value(LNE), p.value(LNC), p.value(LYRD), p.value(LWC)) # Printing the values for each of the variables\n",
    "print(p.value(Lp_prob.objective)) # Printing the value of the solution\n",
    "\n"
   ]
  }
 ],
 "metadata": {
  "kernelspec": {
   "display_name": "Python 3 (ipykernel)",
   "language": "python",
   "name": "python3"
  },
  "language_info": {
   "codemirror_mode": {
    "name": "ipython",
    "version": 3
   },
   "file_extension": ".py",
   "mimetype": "text/x-python",
   "name": "python",
   "nbconvert_exporter": "python",
   "pygments_lexer": "ipython3",
   "version": "3.9.7"
  },
  "toc": {
   "base_numbering": 1,
   "nav_menu": {},
   "number_sections": true,
   "sideBar": true,
   "skip_h1_title": false,
   "title_cell": "Table of Contents",
   "title_sidebar": "Contents",
   "toc_cell": false,
   "toc_position": {},
   "toc_section_display": true,
   "toc_window_display": false
  },
  "varInspector": {
   "cols": {
    "lenName": 16,
    "lenType": 16,
    "lenVar": 40
   },
   "kernels_config": {
    "python": {
     "delete_cmd_postfix": "",
     "delete_cmd_prefix": "del ",
     "library": "var_list.py",
     "varRefreshCmd": "print(var_dic_list())"
    },
    "r": {
     "delete_cmd_postfix": ") ",
     "delete_cmd_prefix": "rm(",
     "library": "var_list.r",
     "varRefreshCmd": "cat(var_dic_list()) "
    }
   },
   "types_to_exclude": [
    "module",
    "function",
    "builtin_function_or_method",
    "instance",
    "_Feature"
   ],
   "window_display": false
  }
 },
 "nbformat": 4,
 "nbformat_minor": 5
}
